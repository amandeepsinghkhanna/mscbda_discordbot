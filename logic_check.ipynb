{
 "cells": [
  {
   "cell_type": "code",
   "execution_count": 1,
   "metadata": {},
   "outputs": [],
   "source": [
    "import pandas as pd\n",
    "from sqlalchemy import create_engine, Column, Text, Float, Integer, DateTime\n",
    "from sqlalchemy.orm import declarative_base\n",
    "from generate_meme_repository import GenerateMemeRepo"
   ]
  },
  {
   "cell_type": "code",
   "execution_count": 2,
   "metadata": {},
   "outputs": [],
   "source": [
    "abc = GenerateMemeRepo([\n",
    "    \"https://www.reddit.com/r/wholesomememes/top.json?limit=100&t=3days\",\n",
    "    \"https://www.reddit.com/r/funny/top.json?limit=100&t=3days\",\n",
    "    \"https://www.reddit.com/r/AdviceAnimals/top.json?limit=100&t=3days\",\n",
    "    \"https://www.reddit.com/r/memes/top.json?limit=100&t=3days\",\n",
    "    \"https://www.reddit.com/r/ProgrammerHumor/top.json?limit=100&t=3days\",\n",
    "    \"https://www.reddit.com/r/MemeEconomy/top.json?limit=100&t=3days\",\n",
    "    \"https://www.reddit.com/r/dankmemes/top.json?limit=100&t=3days\",\n",
    "    \"https://www.reddit.com/r/terriblefacebookmemes/top.json?limit=100&t=3days\",\n",
    "    \"https://www.reddit.com/r/IndianDankMemes/top.json?limit=100&t=3days\"\n",
    "], 'sqlite:///memes.db')"
   ]
  },
  {
   "cell_type": "code",
   "execution_count": 3,
   "metadata": {},
   "outputs": [
    {
     "name": "stderr",
     "output_type": "stream",
     "text": [
      "100%|██████████| 9/9 [00:20<00:00,  2.29s/it]\n"
     ]
    }
   ],
   "source": [
    "abc.ingest_newdata()"
   ]
  },
  {
   "cell_type": "code",
   "execution_count": null,
   "metadata": {},
   "outputs": [],
   "source": []
  },
  {
   "cell_type": "code",
   "execution_count": 4,
   "metadata": {},
   "outputs": [],
   "source": [
    "db_engine = create_engine('sqlite:///memes.db', echo=True)"
   ]
  },
  {
   "cell_type": "code",
   "execution_count": 10,
   "metadata": {},
   "outputs": [
    {
     "name": "stdout",
     "output_type": "stream",
     "text": [
      "2022-03-23 07:48:08,094 INFO sqlalchemy.engine.Engine PRAGMA main.table_info(\"SELECT * FROM MEMES ORDER BY EXTRACTION_TIMESTAMP\")\n",
      "2022-03-23 07:48:08,094 INFO sqlalchemy.engine.Engine [raw sql] ()\n",
      "2022-03-23 07:48:08,095 INFO sqlalchemy.engine.Engine PRAGMA temp.table_info(\"SELECT * FROM MEMES ORDER BY EXTRACTION_TIMESTAMP\")\n",
      "2022-03-23 07:48:08,095 INFO sqlalchemy.engine.Engine [raw sql] ()\n",
      "2022-03-23 07:48:08,096 INFO sqlalchemy.engine.Engine SELECT * FROM MEMES ORDER BY EXTRACTION_TIMESTAMP\n",
      "2022-03-23 07:48:08,096 INFO sqlalchemy.engine.Engine [raw sql] ()\n"
     ]
    },
    {
     "data": {
      "text/html": [
       "<div>\n",
       "<style scoped>\n",
       "    .dataframe tbody tr th:only-of-type {\n",
       "        vertical-align: middle;\n",
       "    }\n",
       "\n",
       "    .dataframe tbody tr th {\n",
       "        vertical-align: top;\n",
       "    }\n",
       "\n",
       "    .dataframe thead th {\n",
       "        text-align: right;\n",
       "    }\n",
       "</style>\n",
       "<table border=\"1\" class=\"dataframe\">\n",
       "  <thead>\n",
       "    <tr style=\"text-align: right;\">\n",
       "      <th></th>\n",
       "      <th>post_id</th>\n",
       "      <th>title</th>\n",
       "      <th>subreddit_name_prefixed</th>\n",
       "      <th>upvote_ratio</th>\n",
       "      <th>ups</th>\n",
       "      <th>url</th>\n",
       "      <th>extraction_timestamp</th>\n",
       "      <th>link_source</th>\n",
       "    </tr>\n",
       "  </thead>\n",
       "  <tbody>\n",
       "    <tr>\n",
       "      <th>0</th>\n",
       "      <td>fegb3boiswo81</td>\n",
       "      <td>Will forever be thankful to that one person</td>\n",
       "      <td>r/wholesomememes</td>\n",
       "      <td>0.94</td>\n",
       "      <td>62367</td>\n",
       "      <td>https://i.redd.it/fegb3boiswo81.jpg</td>\n",
       "      <td>230323</td>\n",
       "      <td>REDDIT</td>\n",
       "    </tr>\n",
       "    <tr>\n",
       "      <th>1</th>\n",
       "      <td>0zm6aionsxo81</td>\n",
       "      <td>Do you remember your first time at water park?...</td>\n",
       "      <td>r/wholesomememes</td>\n",
       "      <td>0.99</td>\n",
       "      <td>6431</td>\n",
       "      <td>https://i.redd.it/0zm6aionsxo81.jpg</td>\n",
       "      <td>230323</td>\n",
       "      <td>REDDIT</td>\n",
       "    </tr>\n",
       "    <tr>\n",
       "      <th>2</th>\n",
       "      <td>mvg5bb2bdxo81</td>\n",
       "      <td>Heh, I could get used to this. Pass me the sugar!</td>\n",
       "      <td>r/wholesomememes</td>\n",
       "      <td>0.99</td>\n",
       "      <td>4233</td>\n",
       "      <td>https://i.redd.it/mvg5bb2bdxo81.jpg</td>\n",
       "      <td>230323</td>\n",
       "      <td>REDDIT</td>\n",
       "    </tr>\n",
       "    <tr>\n",
       "      <th>3</th>\n",
       "      <td>ifa3hojdquo81</td>\n",
       "      <td>New Year's Resolutions</td>\n",
       "      <td>r/wholesomememes</td>\n",
       "      <td>0.99</td>\n",
       "      <td>1805</td>\n",
       "      <td>https://i.redd.it/ifa3hojdquo81.jpg</td>\n",
       "      <td>230323</td>\n",
       "      <td>REDDIT</td>\n",
       "    </tr>\n",
       "    <tr>\n",
       "      <th>4</th>\n",
       "      <td>v25uzjlh5vo81</td>\n",
       "      <td>Best feeling ever</td>\n",
       "      <td>r/wholesomememes</td>\n",
       "      <td>1.00</td>\n",
       "      <td>1113</td>\n",
       "      <td>https://i.redd.it/v25uzjlh5vo81.jpg</td>\n",
       "      <td>230323</td>\n",
       "      <td>REDDIT</td>\n",
       "    </tr>\n",
       "    <tr>\n",
       "      <th>...</th>\n",
       "      <td>...</td>\n",
       "      <td>...</td>\n",
       "      <td>...</td>\n",
       "      <td>...</td>\n",
       "      <td>...</td>\n",
       "      <td>...</td>\n",
       "      <td>...</td>\n",
       "      <td>...</td>\n",
       "    </tr>\n",
       "    <tr>\n",
       "      <th>383</th>\n",
       "      <td>ulmqpyxd21p81</td>\n",
       "      <td>I think somebody faxed this one in to the Face...</td>\n",
       "      <td>r/terriblefacebookmemes</td>\n",
       "      <td>0.77</td>\n",
       "      <td>7</td>\n",
       "      <td>https://i.redd.it/ulmqpyxd21p81.jpg</td>\n",
       "      <td>230323</td>\n",
       "      <td>REDDIT</td>\n",
       "    </tr>\n",
       "    <tr>\n",
       "      <th>384</th>\n",
       "      <td>k6yr0ii7k0p81</td>\n",
       "      <td>haha ceo of company fight very funny 😂😂😂</td>\n",
       "      <td>r/terriblefacebookmemes</td>\n",
       "      <td>0.82</td>\n",
       "      <td>7</td>\n",
       "      <td>https://i.redd.it/k6yr0ii7k0p81.jpg</td>\n",
       "      <td>230323</td>\n",
       "      <td>REDDIT</td>\n",
       "    </tr>\n",
       "    <tr>\n",
       "      <th>385</th>\n",
       "      <td>y5ocjrruhzo81</td>\n",
       "      <td>5 are enough thank you</td>\n",
       "      <td>r/terriblefacebookmemes</td>\n",
       "      <td>1.00</td>\n",
       "      <td>4</td>\n",
       "      <td>https://i.redd.it/y5ocjrruhzo81.jpg</td>\n",
       "      <td>230323</td>\n",
       "      <td>REDDIT</td>\n",
       "    </tr>\n",
       "    <tr>\n",
       "      <th>386</th>\n",
       "      <td>7p090i52fzo81</td>\n",
       "      <td>Bonk! Horny Jail</td>\n",
       "      <td>r/terriblefacebookmemes</td>\n",
       "      <td>0.67</td>\n",
       "      <td>2</td>\n",
       "      <td>https://i.redd.it/7p090i52fzo81.jpg</td>\n",
       "      <td>230323</td>\n",
       "      <td>REDDIT</td>\n",
       "    </tr>\n",
       "    <tr>\n",
       "      <th>387</th>\n",
       "      <td>7x49ke8wryo81</td>\n",
       "      <td>bhejdo yaar pls</td>\n",
       "      <td>r/IndianDankMemes</td>\n",
       "      <td>0.98</td>\n",
       "      <td>75</td>\n",
       "      <td>https://i.redd.it/7x49ke8wryo81.jpg</td>\n",
       "      <td>230323</td>\n",
       "      <td>REDDIT</td>\n",
       "    </tr>\n",
       "  </tbody>\n",
       "</table>\n",
       "<p>388 rows × 8 columns</p>\n",
       "</div>"
      ],
      "text/plain": [
       "           post_id                                              title  \\\n",
       "0    fegb3boiswo81        Will forever be thankful to that one person   \n",
       "1    0zm6aionsxo81  Do you remember your first time at water park?...   \n",
       "2    mvg5bb2bdxo81  Heh, I could get used to this. Pass me the sugar!   \n",
       "3    ifa3hojdquo81                             New Year's Resolutions   \n",
       "4    v25uzjlh5vo81                                  Best feeling ever   \n",
       "..             ...                                                ...   \n",
       "383  ulmqpyxd21p81  I think somebody faxed this one in to the Face...   \n",
       "384  k6yr0ii7k0p81           haha ceo of company fight very funny 😂😂😂   \n",
       "385  y5ocjrruhzo81                             5 are enough thank you   \n",
       "386  7p090i52fzo81                                   Bonk! Horny Jail   \n",
       "387  7x49ke8wryo81                                    bhejdo yaar pls   \n",
       "\n",
       "     subreddit_name_prefixed  upvote_ratio    ups  \\\n",
       "0           r/wholesomememes          0.94  62367   \n",
       "1           r/wholesomememes          0.99   6431   \n",
       "2           r/wholesomememes          0.99   4233   \n",
       "3           r/wholesomememes          0.99   1805   \n",
       "4           r/wholesomememes          1.00   1113   \n",
       "..                       ...           ...    ...   \n",
       "383  r/terriblefacebookmemes          0.77      7   \n",
       "384  r/terriblefacebookmemes          0.82      7   \n",
       "385  r/terriblefacebookmemes          1.00      4   \n",
       "386  r/terriblefacebookmemes          0.67      2   \n",
       "387        r/IndianDankMemes          0.98     75   \n",
       "\n",
       "                                     url extraction_timestamp link_source  \n",
       "0    https://i.redd.it/fegb3boiswo81.jpg               230323      REDDIT  \n",
       "1    https://i.redd.it/0zm6aionsxo81.jpg               230323      REDDIT  \n",
       "2    https://i.redd.it/mvg5bb2bdxo81.jpg               230323      REDDIT  \n",
       "3    https://i.redd.it/ifa3hojdquo81.jpg               230323      REDDIT  \n",
       "4    https://i.redd.it/v25uzjlh5vo81.jpg               230323      REDDIT  \n",
       "..                                   ...                  ...         ...  \n",
       "383  https://i.redd.it/ulmqpyxd21p81.jpg               230323      REDDIT  \n",
       "384  https://i.redd.it/k6yr0ii7k0p81.jpg               230323      REDDIT  \n",
       "385  https://i.redd.it/y5ocjrruhzo81.jpg               230323      REDDIT  \n",
       "386  https://i.redd.it/7p090i52fzo81.jpg               230323      REDDIT  \n",
       "387  https://i.redd.it/7x49ke8wryo81.jpg               230323      REDDIT  \n",
       "\n",
       "[388 rows x 8 columns]"
      ]
     },
     "execution_count": 10,
     "metadata": {},
     "output_type": "execute_result"
    }
   ],
   "source": [
    "pd.read_sql('SELECT * FROM MEMES ORDER BY EXTRACTION_TIMESTAMP', db_engine)"
   ]
  },
  {
   "cell_type": "code",
   "execution_count": null,
   "metadata": {},
   "outputs": [],
   "source": []
  },
  {
   "cell_type": "code",
   "execution_count": null,
   "metadata": {},
   "outputs": [],
   "source": []
  },
  {
   "cell_type": "code",
   "execution_count": null,
   "metadata": {},
   "outputs": [],
   "source": []
  },
  {
   "cell_type": "code",
   "execution_count": null,
   "metadata": {},
   "outputs": [],
   "source": [
    "Base = declarative_base()"
   ]
  },
  {
   "cell_type": "code",
   "execution_count": null,
   "metadata": {},
   "outputs": [],
   "source": [
    "class Memes(Base):\n",
    "    __tablename__ = 'memes'\n",
    "    post_id = Column(Text, primary_key=True)\n",
    "    title = Column(Text)\n",
    "    subreddit_name_prefixed = Column(Text)\n",
    "    upvote_ratio = Column(Float)\n",
    "    ups = Column(Integer)\n",
    "    url = Column(Text)\n",
    "    extraction_timestamp = Column(DateTime)\n",
    "    link_source = Column(Text)"
   ]
  },
  {
   "cell_type": "code",
   "execution_count": null,
   "metadata": {},
   "outputs": [],
   "source": [
    "Base.metadata.create_all(db_engine)"
   ]
  },
  {
   "cell_type": "code",
   "execution_count": null,
   "metadata": {},
   "outputs": [],
   "source": [
    "SUBREDDIT_URLS = [\n",
    "    \"https://www.reddit.com/r/wholesomememes/top.json?limit=100&t=3days\",\n",
    "    \"https://www.reddit.com/r/funny/top.json?limit=100&t=3days\",\n",
    "    \"https://www.reddit.com/r/AdviceAnimals/top.json?limit=100&t=3days\",\n",
    "    \"https://www.reddit.com/r/memes/top.json?limit=100&t=3days\",\n",
    "    \"https://www.reddit.com/r/ProgrammerHumor/top.json?limit=100&t=3days\",\n",
    "    \"https://www.reddit.com/r/MemeEconomy/top.json?limit=100&t=3days\",\n",
    "    \"https://www.reddit.com/r/dankmemes/top.json?limit=100&t=3days\",\n",
    "    \"https://www.reddit.com/r/terriblefacebookmemes/top.json?limit=100&t=3days\",\n",
    "    \"https://www.reddit.com/r/IndianDankMemes/top.json?limit=100&t=3days\"\n",
    "]"
   ]
  },
  {
   "cell_type": "code",
   "execution_count": null,
   "metadata": {},
   "outputs": [],
   "source": [
    "memes_obj = GenerateMemeRepository(subreddit_urls=SUBREDDIT_URLS, db_url=None)"
   ]
  },
  {
   "cell_type": "code",
   "execution_count": null,
   "metadata": {},
   "outputs": [],
   "source": [
    "memes_df = memes_obj.get_meme_links()"
   ]
  },
  {
   "cell_type": "code",
   "execution_count": null,
   "metadata": {},
   "outputs": [],
   "source": [
    "memes_df.columns"
   ]
  },
  {
   "cell_type": "code",
   "execution_count": null,
   "metadata": {},
   "outputs": [],
   "source": [
    "memes_df.head()"
   ]
  },
  {
   "cell_type": "code",
   "execution_count": null,
   "metadata": {},
   "outputs": [],
   "source": [
    "from generate_meme_repository import GenerateMemeRepo"
   ]
  },
  {
   "cell_type": "code",
   "execution_count": null,
   "metadata": {},
   "outputs": [],
   "source": [
    "m = GenerateMemeRepo(SUBREDDIT_URLS, 'sqlite:///memes.db')"
   ]
  },
  {
   "cell_type": "code",
   "execution_count": null,
   "metadata": {},
   "outputs": [],
   "source": [
    "m.create_db()"
   ]
  },
  {
   "cell_type": "code",
   "execution_count": null,
   "metadata": {},
   "outputs": [],
   "source": [
    "import pandas as pd"
   ]
  },
  {
   "cell_type": "code",
   "execution_count": null,
   "metadata": {},
   "outputs": [],
   "source": [
    "a=pd.DataFrame()"
   ]
  },
  {
   "cell_type": "code",
   "execution_count": null,
   "metadata": {},
   "outputs": [],
   "source": [
    "a.to_sql?"
   ]
  },
  {
   "cell_type": "code",
   "execution_count": null,
   "metadata": {},
   "outputs": [],
   "source": []
  },
  {
   "cell_type": "code",
   "execution_count": null,
   "metadata": {},
   "outputs": [],
   "source": []
  },
  {
   "cell_type": "code",
   "execution_count": null,
   "metadata": {},
   "outputs": [],
   "source": []
  },
  {
   "cell_type": "code",
   "execution_count": null,
   "metadata": {},
   "outputs": [],
   "source": []
  },
  {
   "cell_type": "code",
   "execution_count": null,
   "metadata": {},
   "outputs": [],
   "source": []
  },
  {
   "cell_type": "code",
   "execution_count": null,
   "metadata": {},
   "outputs": [],
   "source": []
  },
  {
   "cell_type": "code",
   "execution_count": null,
   "metadata": {},
   "outputs": [],
   "source": []
  },
  {
   "cell_type": "code",
   "execution_count": null,
   "metadata": {},
   "outputs": [],
   "source": []
  },
  {
   "cell_type": "code",
   "execution_count": null,
   "metadata": {},
   "outputs": [],
   "source": []
  },
  {
   "cell_type": "code",
   "execution_count": null,
   "metadata": {},
   "outputs": [],
   "source": []
  },
  {
   "cell_type": "code",
   "execution_count": null,
   "metadata": {},
   "outputs": [],
   "source": []
  },
  {
   "cell_type": "code",
   "execution_count": null,
   "metadata": {},
   "outputs": [],
   "source": []
  },
  {
   "cell_type": "code",
   "execution_count": null,
   "metadata": {},
   "outputs": [],
   "source": []
  },
  {
   "cell_type": "code",
   "execution_count": null,
   "metadata": {},
   "outputs": [],
   "source": []
  },
  {
   "cell_type": "code",
   "execution_count": null,
   "metadata": {},
   "outputs": [],
   "source": []
  },
  {
   "cell_type": "code",
   "execution_count": null,
   "metadata": {},
   "outputs": [],
   "source": []
  },
  {
   "cell_type": "code",
   "execution_count": null,
   "metadata": {},
   "outputs": [],
   "source": []
  },
  {
   "cell_type": "code",
   "execution_count": null,
   "metadata": {},
   "outputs": [],
   "source": []
  },
  {
   "cell_type": "code",
   "execution_count": null,
   "metadata": {},
   "outputs": [],
   "source": []
  },
  {
   "cell_type": "code",
   "execution_count": null,
   "metadata": {},
   "outputs": [],
   "source": [
    "import pandas as pd\n"
   ]
  },
  {
   "cell_type": "code",
   "execution_count": null,
   "metadata": {},
   "outputs": [],
   "source": [
    "gm = GenerateMemeRepository(SUBREDDIT_URLS, db_url=None)"
   ]
  },
  {
   "cell_type": "code",
   "execution_count": null,
   "metadata": {},
   "outputs": [],
   "source": [
    "df = gm.get_meme_links()"
   ]
  },
  {
   "cell_type": "code",
   "execution_count": null,
   "metadata": {},
   "outputs": [],
   "source": [
    "df.columns"
   ]
  },
  {
   "cell_type": "code",
   "execution_count": null,
   "metadata": {},
   "outputs": [],
   "source": [
    "from sqlalchemy import create_engine\n",
    "from sqlalchemy.ext.declarative import declarative_base"
   ]
  },
  {
   "cell_type": "code",
   "execution_count": null,
   "metadata": {},
   "outputs": [],
   "source": [
    "engine = create_engine('sqlite:////memes.db', echo=True)"
   ]
  },
  {
   "cell_type": "code",
   "execution_count": null,
   "metadata": {},
   "outputs": [],
   "source": [
    "Base = declarative_base()"
   ]
  },
  {
   "cell_type": "code",
   "execution_count": null,
   "metadata": {},
   "outputs": [],
   "source": [
    "class Memes(Base):\n",
    "    __tablename__ = 'memes'"
   ]
  },
  {
   "cell_type": "code",
   "execution_count": null,
   "metadata": {},
   "outputs": [],
   "source": []
  },
  {
   "cell_type": "code",
   "execution_count": null,
   "metadata": {},
   "outputs": [],
   "source": [
    "from sqlalchemy import Table, MetaData"
   ]
  },
  {
   "cell_type": "code",
   "execution_count": null,
   "metadata": {},
   "outputs": [],
   "source": [
    "meta = MetaData()"
   ]
  },
  {
   "cell_type": "code",
   "execution_count": null,
   "metadata": {},
   "outputs": [],
   "source": [
    "MEMETABLE = Table(\n",
    "    'memes', meta\n",
    ")"
   ]
  },
  {
   "cell_type": "code",
   "execution_count": null,
   "metadata": {},
   "outputs": [],
   "source": []
  }
 ],
 "metadata": {
  "interpreter": {
   "hash": "37db8e5160c7f4ca30ae239ad64ff819637700062a5d0120db61767f43bca737"
  },
  "kernelspec": {
   "display_name": "Python 3.8.12 ('dev')",
   "language": "python",
   "name": "python3"
  },
  "language_info": {
   "codemirror_mode": {
    "name": "ipython",
    "version": 3
   },
   "file_extension": ".py",
   "mimetype": "text/x-python",
   "name": "python",
   "nbconvert_exporter": "python",
   "pygments_lexer": "ipython3",
   "version": "3.8.12"
  },
  "orig_nbformat": 4
 },
 "nbformat": 4,
 "nbformat_minor": 2
}
